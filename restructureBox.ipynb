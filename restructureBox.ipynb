{
 "cells": [
  {
   "cell_type": "code",
   "execution_count": 1,
   "metadata": {},
   "outputs": [
    {
     "name": "stderr",
     "output_type": "stream",
     "text": [
      "QUANTAXIS>> save for later use\n"
     ]
    }
   ],
   "source": [
    "import numpy as np\n",
    "import pandas as pd \n",
    "import QUANTAXIS as QA \n",
    "#first time generate data \n",
    "testdata = np.random.standard_normal((3000,504))\n",
    "symbols = ['stock '+ str(x) for x in range(testdata.shape[0])]\n",
    "days = pd.date_range('2017-1-1',periods = testdata.shape[1],freq = '1d')\n",
    "df1 = pd.DataFrame(testdata, symbols)\n",
    "df = pd.DataFrame(testdata, index = symbols, columns = days)\n",
    "#save for later use\n",
    "#df.to_csv('./analysis.csv')\n",
    "\n",
    "#take first 5 for trail\n",
    "df.columns\n",
    "to_drop = ['2017-01-0100:00:00']\n",
    "#df.drop(to_drop,inplace=True,axis=1)\n",
    "#if df.empty:\n",
    "   # print (\"no data\")\n",
    "#else: \n",
    "   # df = pd.DataFrame(pd.read_csv('analysis.csv'))\n",
    "QA.QA_util_log_info('save for later use')\n",
    "df.to_csv('./analysis.csv')"
   ]
  },
  {
   "cell_type": "code",
   "execution_count": 10,
   "metadata": {},
   "outputs": [
    {
     "name": "stderr",
     "output_type": "stream",
     "text": [
      "C:\\Users\\yongnjia\\AppData\\Local\\Continuum\\anaconda3\\lib\\site-packages\\ipykernel_launcher.py:1: FutureWarning: how in .resample() is deprecated\n",
      "the new syntax is .resample(...).ohlc()\n",
      "  \"\"\"Entry point for launching an IPython kernel.\n"
     ]
    }
   ],
   "source": []
  },
  {
   "cell_type": "code",
   "execution_count": 16,
   "metadata": {},
   "outputs": [],
   "source": [
    "newdf = df.loc['stock 1'].cumsum().resample('5D').ohlc()\n",
    "def restructureBox(df,period):\n",
    "    \n",
    "    return True\n",
    "\n",
    "    \n",
    "    "
   ]
  },
  {
   "cell_type": "code",
   "execution_count": 1,
   "metadata": {},
   "outputs": [
    {
     "name": "stderr",
     "output_type": "stream",
     "text": [
      "QUANTAXIS>> load data from local DB\n"
     ]
    }
   ],
   "source": [
    "import QUANTAXIS as QA \n",
    "QA.QA_util_log_info('load data from local DB')\n",
    "start_date = '2018-03-15'\n",
    "end_date = '2019-04-26'\n",
    "data = QA.QA_fetch_stock_day_adv('600797', start_date, end_date)"
   ]
  },
  {
   "cell_type": "code",
   "execution_count": 8,
   "metadata": {},
   "outputs": [],
   "source": [
    "import pandas as pd"
   ]
  },
  {
   "cell_type": "code",
   "execution_count": 10,
   "metadata": {},
   "outputs": [
    {
     "ename": "ImportError",
     "evalue": "cannot import name 'datetools'",
     "output_type": "error",
     "traceback": [
      "\u001b[0;31m---------------------------------------------------------------------------\u001b[0m",
      "\u001b[0;31mImportError\u001b[0m                               Traceback (most recent call last)",
      "\u001b[0;32m<ipython-input-10-5933a748a634>\u001b[0m in \u001b[0;36m<module>\u001b[0;34m()\u001b[0m\n\u001b[0;32m----> 1\u001b[0;31m \u001b[0;32mfrom\u001b[0m \u001b[0mpandas\u001b[0m\u001b[0;34m.\u001b[0m\u001b[0mcore\u001b[0m \u001b[0;32mimport\u001b[0m \u001b[0mdatetools\u001b[0m\u001b[0;34m\u001b[0m\u001b[0m\n\u001b[0m",
      "\u001b[0;31mImportError\u001b[0m: cannot import name 'datetools'"
     ]
    }
   ],
   "source": [
    "from pandas.core import datetools\n"
   ]
  },
  {
   "cell_type": "code",
   "execution_count": null,
   "metadata": {},
   "outputs": [],
   "source": []
  }
 ],
 "metadata": {
  "kernelspec": {
   "display_name": "Python 3",
   "language": "python",
   "name": "python3"
  },
  "language_info": {
   "codemirror_mode": {
    "name": "ipython",
    "version": 3
   },
   "file_extension": ".py",
   "mimetype": "text/x-python",
   "name": "python",
   "nbconvert_exporter": "python",
   "pygments_lexer": "ipython3",
   "version": "3.6.4"
  }
 },
 "nbformat": 4,
 "nbformat_minor": 2
}
